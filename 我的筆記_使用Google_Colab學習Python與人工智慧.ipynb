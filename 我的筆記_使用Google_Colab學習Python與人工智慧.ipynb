{
  "nbformat": 4,
  "nbformat_minor": 0,
  "metadata": {
    "colab": {
      "name": "我的筆記使用Google Colab學習Python與人工智慧.ipynb",
      "provenance": [],
      "collapsed_sections": [],
      "authorship_tag": "ABX9TyOM9tys8j/elSVIECXeX95w",
      "include_colab_link": true
    },
    "kernelspec": {
      "name": "python3",
      "display_name": "Python 3"
    }
  },
  "cells": [
    {
      "cell_type": "markdown",
      "metadata": {
        "id": "view-in-github",
        "colab_type": "text"
      },
      "source": [
        "<a href=\"https://colab.research.google.com/github/MyDearGreatTeacher/MyPython2020/blob/main/%E6%88%91%E7%9A%84%E7%AD%86%E8%A8%98_%E4%BD%BF%E7%94%A8Google_Colab%E5%AD%B8%E7%BF%92Python%E8%88%87%E4%BA%BA%E5%B7%A5%E6%99%BA%E6%85%A7.ipynb\" target=\"_parent\"><img src=\"https://colab.research.google.com/assets/colab-badge.svg\" alt=\"Open In Colab\"/></a>"
      ]
    },
    {
      "cell_type": "code",
      "metadata": {
        "colab": {
          "base_uri": "https://localhost:8080/"
        },
        "id": "yewBATIdaWDp",
        "outputId": "b53612dc-12bd-4180-ef84-dd7529ba883b"
      },
      "source": [
        "import pandas as pd\n",
        "print(\"pandas version: %s\" % pd.__version__)\n",
        "\n",
        "import matplotlib\n",
        "print(\"matplotlib version: %s\" % matplotlib.__version__)\n",
        "\n",
        "import numpy as np\n",
        "print(\"numpy version: %s\" % np.__version__)\n",
        "\n",
        "import sklearn\n",
        "print(\"scikit-learn version: %s\" % sklearn.__version__)\n",
        "\n",
        "import tensorflow as tf\n",
        "print(\"tensorflow version: %s\" % tf.__version__)\n",
        "\n",
        "import torch\n",
        "print(\"PyTorch version: %s\" %torch.__version__)\n",
        "print(\"2020年3月PyTorch version最新版本 是1.4 請參閱https://pytorch.org/\")"
      ],
      "execution_count": null,
      "outputs": [
        {
          "output_type": "stream",
          "text": [
            "pandas version: 1.1.4\n",
            "matplotlib version: 3.2.2\n",
            "numpy version: 1.18.5\n",
            "scikit-learn version: 0.22.2.post1\n",
            "tensorflow version: 2.3.0\n",
            "PyTorch version: 1.7.0+cu101\n",
            "2020年3月PyTorch version最新版本 是1.4 請參閱https://pytorch.org/\n"
          ],
          "name": "stdout"
        }
      ]
    },
    {
      "cell_type": "markdown",
      "metadata": {
        "id": "-b41XD1daa0p"
      },
      "source": [
        "# 我的筆記 20201204\n",
        "\n",
        "## 軟體套件載入: \n",
        "```\n",
        "使用 import\n",
        "\n",
        "import pandas(軟體套件) as pd(小名)\n",
        "\n",
        "使用方式: pd.XXXX\n",
        "\n",
        "```\n",
        "## 認識軟體套件\n",
        "```\n",
        "pandas\n",
        "\n",
        "\n",
        "tensorflow\n",
        "\n",
        "```\n",
        "\n",
        "## python格式化輸出技術\n",
        "```\n",
        "print(\"PyTorch version: %s\" %torch.__version__)\n",
        "\n",
        "字串(位置%s) %  (要輸出的內容torch.__version__) \n",
        "\n",
        "```"
      ]
    }
  ]
}